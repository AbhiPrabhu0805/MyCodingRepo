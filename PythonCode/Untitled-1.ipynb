{
 "cells": [
  {
   "cell_type": "code",
   "execution_count": 14,
   "metadata": {},
   "outputs": [
    {
     "name": "stdout",
     "output_type": "stream",
     "text": [
      "Axes(0.125,0.11;0.775x0.77)\n"
     ]
    }
   ],
   "source": [
    "import pandas as pd\n",
    "\n",
    "data =[[\"John\",40,\"AVP\"],[\"Abhimanyu\",32,\"Contractor\"],[\"Rohit\",35,\"Director\"],[\"TBD\",None,\"Vacant\"]]\n",
    "\n",
    "cols=[\"Name\",\"Age\",\"Position\"]\n",
    "\n",
    "df=pd.DataFrame(data=data, columns=cols)\n",
    "\n",
    "print(df.boxplot([\"Age\"]))"
   ]
  },
  {
   "cell_type": "code",
   "execution_count": 15,
   "metadata": {},
   "outputs": [
    {
     "name": "stdout",
     "output_type": "stream",
     "text": [
      "Axes(0.125,0.11;0.775x0.77)\n"
     ]
    }
   ],
   "source": [
    "import pandas as pd\n",
    "\n",
    "data =[[\"John\",40,\"AVP\"],[\"Abhimanyu\",32,\"Contractor\"],[\"Rohit\",35,\"Director\"],[\"TBD\",None,\"Vacant\"]]\n",
    "\n",
    "cols=[\"Name\",\"Age\",\"Position\"]\n",
    "\n",
    "df=pd.DataFrame(data=data, columns=cols)\n",
    "\n",
    "print(df.boxplot([\"Age\"]))"
   ]
  }
 ],
 "metadata": {
  "kernelspec": {
   "display_name": "Python 3",
   "language": "python",
   "name": "python3"
  },
  "language_info": {
   "codemirror_mode": {
    "name": "ipython",
    "version": 3
   },
   "file_extension": ".py",
   "mimetype": "text/x-python",
   "name": "python",
   "nbconvert_exporter": "python",
   "pygments_lexer": "ipython3",
   "version": "3.11.6"
  }
 },
 "nbformat": 4,
 "nbformat_minor": 2
}
